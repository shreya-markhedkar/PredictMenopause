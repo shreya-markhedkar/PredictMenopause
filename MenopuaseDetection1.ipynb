{
 "cells": [
  {
   "cell_type": "code",
   "execution_count": 38,
   "metadata": {},
   "outputs": [],
   "source": [
    "import numpy as np\n",
    "import matplotlib.pyplot as plt\n",
    "import pandas as pd\n",
    "from sklearn.model_selection import train_test_split\n",
    "from sklearn.metrics import classification_report\n",
    "from sklearn.metrics import confusion_matrix\n",
    "from sklearn.metrics import ConfusionMatrixDisplay"
   ]
  },
  {
   "cell_type": "code",
   "execution_count": 4,
   "metadata": {},
   "outputs": [
    {
     "data": {
      "text/html": [
       "<div>\n",
       "<style scoped>\n",
       "    .dataframe tbody tr th:only-of-type {\n",
       "        vertical-align: middle;\n",
       "    }\n",
       "\n",
       "    .dataframe tbody tr th {\n",
       "        vertical-align: top;\n",
       "    }\n",
       "\n",
       "    .dataframe thead th {\n",
       "        text-align: right;\n",
       "    }\n",
       "</style>\n",
       "<table border=\"1\" class=\"dataframe\">\n",
       "  <thead>\n",
       "    <tr style=\"text-align: right;\">\n",
       "      <th></th>\n",
       "      <th>patient_id</th>\n",
       "      <th>gender</th>\n",
       "      <th>education</th>\n",
       "      <th>treatment_data</th>\n",
       "      <th>id_healthcenter</th>\n",
       "      <th>id_treatment_region</th>\n",
       "      <th>hereditary_history</th>\n",
       "      <th>birth_date</th>\n",
       "      <th>age</th>\n",
       "      <th>weight</th>\n",
       "      <th>...</th>\n",
       "      <th>taking_gallbladder_disease_medicine</th>\n",
       "      <th>smoking</th>\n",
       "      <th>alcohol</th>\n",
       "      <th>breast_pain</th>\n",
       "      <th>radiation_history</th>\n",
       "      <th>Birth_control(Contraception)</th>\n",
       "      <th>\\nmenstrual_age</th>\n",
       "      <th>menopausal_age</th>\n",
       "      <th>Benign_malignant_cancer</th>\n",
       "      <th>condition</th>\n",
       "    </tr>\n",
       "  </thead>\n",
       "  <tbody>\n",
       "    <tr>\n",
       "      <th>0</th>\n",
       "      <td>111038163288</td>\n",
       "      <td>0</td>\n",
       "      <td>4</td>\n",
       "      <td>2019</td>\n",
       "      <td>1110000306</td>\n",
       "      <td>1110000330</td>\n",
       "      <td>1</td>\n",
       "      <td>1990</td>\n",
       "      <td>29</td>\n",
       "      <td>77</td>\n",
       "      <td>...</td>\n",
       "      <td>0</td>\n",
       "      <td>0</td>\n",
       "      <td>0</td>\n",
       "      <td>1</td>\n",
       "      <td>0</td>\n",
       "      <td>0</td>\n",
       "      <td>1</td>\n",
       "      <td>0.0</td>\n",
       "      <td>0</td>\n",
       "      <td>under treatment</td>\n",
       "    </tr>\n",
       "    <tr>\n",
       "      <th>1</th>\n",
       "      <td>111038152771</td>\n",
       "      <td>0</td>\n",
       "      <td>3</td>\n",
       "      <td>2019</td>\n",
       "      <td>1110000126</td>\n",
       "      <td>1110000330</td>\n",
       "      <td>0</td>\n",
       "      <td>1982</td>\n",
       "      <td>37</td>\n",
       "      <td>96</td>\n",
       "      <td>...</td>\n",
       "      <td>0</td>\n",
       "      <td>0</td>\n",
       "      <td>1</td>\n",
       "      <td>1</td>\n",
       "      <td>1</td>\n",
       "      <td>1</td>\n",
       "      <td>1</td>\n",
       "      <td>0.0</td>\n",
       "      <td>0</td>\n",
       "      <td>under treatment</td>\n",
       "    </tr>\n",
       "    <tr>\n",
       "      <th>2</th>\n",
       "      <td>111038175699</td>\n",
       "      <td>0</td>\n",
       "      <td>2</td>\n",
       "      <td>2019</td>\n",
       "      <td>1110000311</td>\n",
       "      <td>1110000330</td>\n",
       "      <td>1</td>\n",
       "      <td>1986</td>\n",
       "      <td>33</td>\n",
       "      <td>89</td>\n",
       "      <td>...</td>\n",
       "      <td>1</td>\n",
       "      <td>0</td>\n",
       "      <td>0</td>\n",
       "      <td>0</td>\n",
       "      <td>0</td>\n",
       "      <td>1</td>\n",
       "      <td>2</td>\n",
       "      <td>0.0</td>\n",
       "      <td>0</td>\n",
       "      <td>under treatment</td>\n",
       "    </tr>\n",
       "    <tr>\n",
       "      <th>3</th>\n",
       "      <td>111038141164</td>\n",
       "      <td>0</td>\n",
       "      <td>3</td>\n",
       "      <td>2019</td>\n",
       "      <td>1110000077</td>\n",
       "      <td>1110000329</td>\n",
       "      <td>1</td>\n",
       "      <td>1956</td>\n",
       "      <td>63</td>\n",
       "      <td>88</td>\n",
       "      <td>...</td>\n",
       "      <td>1</td>\n",
       "      <td>1</td>\n",
       "      <td>0</td>\n",
       "      <td>1</td>\n",
       "      <td>1</td>\n",
       "      <td>1</td>\n",
       "      <td>1</td>\n",
       "      <td>2.0</td>\n",
       "      <td>1</td>\n",
       "      <td>under treatment</td>\n",
       "    </tr>\n",
       "    <tr>\n",
       "      <th>4</th>\n",
       "      <td>111038158630</td>\n",
       "      <td>0</td>\n",
       "      <td>1</td>\n",
       "      <td>2019</td>\n",
       "      <td>1110000048</td>\n",
       "      <td>1110000330</td>\n",
       "      <td>0</td>\n",
       "      <td>1994</td>\n",
       "      <td>25</td>\n",
       "      <td>76</td>\n",
       "      <td>...</td>\n",
       "      <td>0</td>\n",
       "      <td>1</td>\n",
       "      <td>1</td>\n",
       "      <td>1</td>\n",
       "      <td>0</td>\n",
       "      <td>1</td>\n",
       "      <td>1</td>\n",
       "      <td>0.0</td>\n",
       "      <td>1</td>\n",
       "      <td>under treatment</td>\n",
       "    </tr>\n",
       "  </tbody>\n",
       "</table>\n",
       "<p>5 rows × 30 columns</p>\n",
       "</div>"
      ],
      "text/plain": [
       "     patient_id  gender   education  treatment_data  id_healthcenter  \\\n",
       "0  111038163288        0          4            2019       1110000306   \n",
       "1  111038152771        0          3            2019       1110000126   \n",
       "2  111038175699        0          2            2019       1110000311   \n",
       "3  111038141164        0          3            2019       1110000077   \n",
       "4  111038158630        0          1            2019       1110000048   \n",
       "\n",
       "   id_treatment_region  hereditary_history birth_date  age  weight  ...  \\\n",
       "0           1110000330                   1       1990   29      77  ...   \n",
       "1           1110000330                   0       1982   37      96  ...   \n",
       "2           1110000330                   1       1986   33      89  ...   \n",
       "3           1110000329                   1       1956   63      88  ...   \n",
       "4           1110000330                   0       1994   25      76  ...   \n",
       "\n",
       "   taking_gallbladder_disease_medicine  smoking  alcohol  breast_pain  \\\n",
       "0                                    0        0        0            1   \n",
       "1                                    0        0        1            1   \n",
       "2                                    1        0        0            0   \n",
       "3                                    1        1        0            1   \n",
       "4                                    0        1        1            1   \n",
       "\n",
       "   radiation_history  Birth_control(Contraception)  \\nmenstrual_age  \\\n",
       "0                  0                             0                1   \n",
       "1                  1                             1                1   \n",
       "2                  0                             1                2   \n",
       "3                  1                             1                1   \n",
       "4                  0                             1                1   \n",
       "\n",
       "   menopausal_age  Benign_malignant_cancer        condition  \n",
       "0             0.0                        0  under treatment  \n",
       "1             0.0                        0  under treatment  \n",
       "2             0.0                        0  under treatment  \n",
       "3             2.0                        1  under treatment  \n",
       "4             0.0                        1  under treatment  \n",
       "\n",
       "[5 rows x 30 columns]"
      ]
     },
     "execution_count": 4,
     "metadata": {},
     "output_type": "execute_result"
    }
   ],
   "source": [
    "df = pd.read_csv(\"DFd.csv\")\n",
    "df.head()"
   ]
  },
  {
   "cell_type": "code",
   "execution_count": 5,
   "metadata": {},
   "outputs": [],
   "source": [
    "df=df.drop(['patient_id', 'education','treatment_data','id_healthcenter','id_treatment_region','birth_date','thickness_tumor','radiation_history','Benign_malignant_cancer','condition'], axis=1)"
   ]
  },
  {
   "cell_type": "code",
   "execution_count": 6,
   "metadata": {},
   "outputs": [
    {
     "name": "stdout",
     "output_type": "stream",
     "text": [
      "<class 'pandas.core.frame.DataFrame'>\n",
      "RangeIndex: 1055 entries, 0 to 1054\n",
      "Data columns (total 20 columns):\n",
      " #   Column                               Non-Null Count  Dtype  \n",
      "---  ------                               --------------  -----  \n",
      " 0   gender                               1055 non-null   int64  \n",
      " 1   hereditary_history                   1055 non-null   int64  \n",
      " 2   age                                  1055 non-null   int64  \n",
      " 3   weight                               1055 non-null   int64  \n",
      " 4   marital_status                       1055 non-null   int64  \n",
      " 5   marital_length                       1055 non-null   int64  \n",
      " 6   pregnency_experience                 1055 non-null   int64  \n",
      " 7   giving_birth                         1055 non-null   int64  \n",
      " 8   age_FirstGivingBirth                 1055 non-null   int64  \n",
      " 9   \n",
      "abortion                            1055 non-null   int64  \n",
      " 10  blood                                1055 non-null   int64  \n",
      " 11  taking_heartMedicine                 1055 non-null   int64  \n",
      " 12  taking_blood_pressure_medicine       1055 non-null   int64  \n",
      " 13  taking_gallbladder_disease_medicine  1055 non-null   int64  \n",
      " 14  smoking                              1055 non-null   int64  \n",
      " 15  alcohol                              1055 non-null   int64  \n",
      " 16  breast_pain                          1055 non-null   int64  \n",
      " 17  Birth_control(Contraception)         1055 non-null   int64  \n",
      " 18  \n",
      "menstrual_age                       1055 non-null   int64  \n",
      " 19  menopausal_age                       1053 non-null   float64\n",
      "dtypes: float64(1), int64(19)\n",
      "memory usage: 165.0 KB\n"
     ]
    }
   ],
   "source": [
    "df.info()"
   ]
  },
  {
   "cell_type": "code",
   "execution_count": 7,
   "metadata": {},
   "outputs": [],
   "source": [
    "df.dropna(inplace = True)"
   ]
  },
  {
   "cell_type": "code",
   "execution_count": 8,
   "metadata": {},
   "outputs": [
    {
     "data": {
      "text/plain": [
       "gender                                 0\n",
       "hereditary_history                     0\n",
       "age                                    0\n",
       "weight                                 0\n",
       "marital_status                         0\n",
       "marital_length                         0\n",
       "pregnency_experience                   0\n",
       "giving_birth                           0\n",
       "age_FirstGivingBirth                   0\n",
       "\\nabortion                             0\n",
       "blood                                  0\n",
       "taking_heartMedicine                   0\n",
       "taking_blood_pressure_medicine         0\n",
       "taking_gallbladder_disease_medicine    0\n",
       "smoking                                0\n",
       "alcohol                                0\n",
       "breast_pain                            0\n",
       "Birth_control(Contraception)           0\n",
       "\\nmenstrual_age                        0\n",
       "menopausal_age                         0\n",
       "dtype: int64"
      ]
     },
     "execution_count": 8,
     "metadata": {},
     "output_type": "execute_result"
    }
   ],
   "source": [
    "df.isnull().sum()\n",
    "df.isna().sum()"
   ]
  },
  {
   "cell_type": "code",
   "execution_count": 9,
   "metadata": {},
   "outputs": [],
   "source": [
    "X= df.iloc[:,1:19].values\n",
    "Y= df.iloc[:,19].values"
   ]
  },
  {
   "cell_type": "code",
   "execution_count": 10,
   "metadata": {},
   "outputs": [],
   "source": [
    "X_train, X_test, Y_train, Y_test = train_test_split(X, Y, test_size = 0.25, random_state = 0)"
   ]
  },
  {
   "cell_type": "code",
   "execution_count": 11,
   "metadata": {
    "scrolled": true
   },
   "outputs": [],
   "source": [
    "from sklearn.preprocessing import StandardScaler\n",
    "sc = StandardScaler()\n",
    "X_train = sc.fit_transform(X_train)\n",
    "X_test = sc.transform(X_test)"
   ]
  },
  {
   "cell_type": "code",
   "execution_count": 12,
   "metadata": {},
   "outputs": [],
   "source": [
    "# from sklearn.metrics import confusion_matrix\n",
    "# confusion_matrix(Y_test, Y_pred)"
   ]
  },
  {
   "cell_type": "code",
   "execution_count": 13,
   "metadata": {},
   "outputs": [],
   "source": [
    "from sklearn.metrics import accuracy_score"
   ]
  },
  {
   "cell_type": "code",
   "execution_count": 39,
   "metadata": {},
   "outputs": [
    {
     "name": "stdout",
     "output_type": "stream",
     "text": [
      "0.8939393939393939\n",
      "              precision    recall  f1-score   support\n",
      "\n",
      "         0.0       0.93      0.98      0.96       238\n",
      "         1.0       0.12      0.07      0.09        14\n",
      "         2.0       0.25      0.08      0.12        12\n",
      "\n",
      "    accuracy                           0.89       264\n",
      "   macro avg       0.43      0.38      0.39       264\n",
      "weighted avg       0.86      0.89      0.87       264\n",
      "\n"
     ]
    },
    {
     "data": {
      "image/png": "[encoded data removed]",
      "text/plain": [
       "<Figure size 432x288 with 2 Axes>"
      ]
     },
     "metadata": {
      "needs_background": "light"
     },
     "output_type": "display_data"
    }
   ],
   "source": [
    "#Using Logistic Regression Algorithm to the Training Set\n",
    "from sklearn.linear_model import LogisticRegression\n",
    "classifier = LogisticRegression(random_state = 0)\n",
    "classifier.fit(X_train, Y_train)\n",
    "Y_pred = classifier.predict(X_test)\n",
    "print(accuracy_score(Y_test, Y_pred))\n",
    "print(classification_report(Y_test,Y_pred))\n",
    "cm = confusion_matrix(Y_test, Y_pred, labels=classifier.classes_)\n",
    "disp = ConfusionMatrixDisplay(confusion_matrix=cm, display_labels=classifier.classes_)\n",
    "disp.plot()\n",
    "\n",
    "plt.show()"
   ]
  },
  {
   "cell_type": "code",
   "execution_count": 40,
   "metadata": {},
   "outputs": [
    {
     "name": "stdout",
     "output_type": "stream",
     "text": [
      "0.8977272727272727\n",
      "              precision    recall  f1-score   support\n",
      "\n",
      "         0.0       0.91      1.00      0.95       238\n",
      "         1.0       0.00      0.00      0.00        14\n",
      "         2.0       0.00      0.00      0.00        12\n",
      "\n",
      "    accuracy                           0.90       264\n",
      "   macro avg       0.30      0.33      0.32       264\n",
      "weighted avg       0.82      0.90      0.86       264\n",
      "\n"
     ]
    },
    {
     "name": "stderr",
     "output_type": "stream",
     "text": [
      "C:\\ProgramData\\Anaconda3\\lib\\site-packages\\sklearn\\metrics\\_classification.py:1221: UndefinedMetricWarning: Precision and F-score are ill-defined and being set to 0.0 in labels with no predicted samples. Use `zero_division` parameter to control this behavior.\n",
      "  _warn_prf(average, modifier, msg_start, len(result))\n"
     ]
    },
    {
     "data": {
      "image/png": "[encoded data removed]",
      "text/plain": [
       "<Figure size 432x288 with 2 Axes>"
      ]
     },
     "metadata": {
      "needs_background": "light"
     },
     "output_type": "display_data"
    }
   ],
   "source": [
    "#Using KNeighborsClassifier Method of neighbors class to use Nearest Neighbor algorithm\n",
    "from sklearn.neighbors import KNeighborsClassifier\n",
    "classifier = KNeighborsClassifier(n_neighbors = 5, metric = 'minkowski', p = 2)\n",
    "classifier.fit(X_train, Y_train)\n",
    "Y_pred = classifier.predict(X_test)\n",
    "print(accuracy_score(Y_test, Y_pred))\n",
    "print(classification_report(Y_test,Y_pred))\n",
    "cm = confusion_matrix(Y_test, Y_pred, labels=classifier.classes_)\n",
    "disp = ConfusionMatrixDisplay(confusion_matrix=cm, display_labels=classifier.classes_)\n",
    "disp.plot()\n",
    "\n",
    "plt.show()"
   ]
  },
  {
   "cell_type": "code",
   "execution_count": 41,
   "metadata": {},
   "outputs": [
    {
     "name": "stdout",
     "output_type": "stream",
     "text": [
      "0.8977272727272727\n",
      "              precision    recall  f1-score   support\n",
      "\n",
      "         0.0       0.93      0.98      0.96       238\n",
      "         1.0       0.22      0.14      0.17        14\n",
      "         2.0       0.25      0.08      0.12        12\n",
      "\n",
      "    accuracy                           0.90       264\n",
      "   macro avg       0.47      0.40      0.42       264\n",
      "weighted avg       0.86      0.90      0.88       264\n",
      "\n"
     ]
    },
    {
     "data": {
      "image/png": "[encoded data removed]",
      "text/plain": [
       "<Figure size 432x288 with 2 Axes>"
      ]
     },
     "metadata": {
      "needs_background": "light"
     },
     "output_type": "display_data"
    }
   ],
   "source": [
    "#Using SVC method of svm class to use Support Vector Machine Algorithm\n",
    "from sklearn.svm import SVC\n",
    "classifier = SVC(kernel = 'linear', random_state = 0)\n",
    "classifier.fit(X_train, Y_train)\n",
    "Y_pred = classifier.predict(X_test)\n",
    "print(accuracy_score(Y_test, Y_pred))\n",
    "print(classification_report(Y_test,Y_pred))\n",
    "cm = confusion_matrix(Y_test, Y_pred, labels=classifier.classes_)\n",
    "disp = ConfusionMatrixDisplay(confusion_matrix=cm, display_labels=classifier.classes_)\n",
    "disp.plot()\n",
    "\n",
    "plt.show()"
   ]
  },
  {
   "cell_type": "code",
   "execution_count": 42,
   "metadata": {},
   "outputs": [
    {
     "name": "stdout",
     "output_type": "stream",
     "text": [
      "0.8636363636363636\n",
      "              precision    recall  f1-score   support\n",
      "\n",
      "         0.0       0.98      0.90      0.94       238\n",
      "         1.0       0.25      0.43      0.32        14\n",
      "         2.0       0.35      0.58      0.44        12\n",
      "\n",
      "    accuracy                           0.86       264\n",
      "   macro avg       0.53      0.64      0.56       264\n",
      "weighted avg       0.91      0.86      0.88       264\n",
      "\n"
     ]
    },
    {
     "data": {
      "image/png": "[encoded data removed]",
      "text/plain": [
       "<Figure size 432x288 with 2 Axes>"
      ]
     },
     "metadata": {
      "needs_background": "light"
     },
     "output_type": "display_data"
    }
   ],
   "source": [
    "#Using GaussianNB method of naïve_bayes class to use Naïve Bayes Algorithm\n",
    "from sklearn.naive_bayes import GaussianNB\n",
    "classifier = GaussianNB()\n",
    "classifier.fit(X_train, Y_train)\n",
    "Y_pred = classifier.predict(X_test)\n",
    "print(accuracy_score(Y_test, Y_pred))\n",
    "print(classification_report(Y_test,Y_pred))\n",
    "cm = confusion_matrix(Y_test, Y_pred, labels=classifier.classes_)\n",
    "disp = ConfusionMatrixDisplay(confusion_matrix=cm, display_labels=classifier.classes_)\n",
    "disp.plot()\n",
    "\n",
    "plt.show()"
   ]
  },
  {
   "cell_type": "code",
   "execution_count": 43,
   "metadata": {},
   "outputs": [
    {
     "name": "stdout",
     "output_type": "stream",
     "text": [
      "0.9128787878787878\n",
      "              precision    recall  f1-score   support\n",
      "\n",
      "         0.0       0.96      0.97      0.97       238\n",
      "         1.0       0.43      0.43      0.43        14\n",
      "         2.0       0.38      0.25      0.30        12\n",
      "\n",
      "    accuracy                           0.91       264\n",
      "   macro avg       0.59      0.55      0.57       264\n",
      "weighted avg       0.90      0.91      0.91       264\n",
      "\n"
     ]
    },
    {
     "data": {
      "image/png": "[encoded data removed]",
      "text/plain": [
       "<Figure size 432x288 with 2 Axes>"
      ]
     },
     "metadata": {
      "needs_background": "light"
     },
     "output_type": "display_data"
    }
   ],
   "source": [
    "#Using DecisionTreeClassifier of tree class to use Decision Tree Algorithm\n",
    "\n",
    "from sklearn.tree import DecisionTreeClassifier\n",
    "classifier = DecisionTreeClassifier(criterion = 'entropy', random_state = 0)\n",
    "classifier.fit(X_train, Y_train)\n",
    "Y_pred = classifier.predict(X_test)\n",
    "print(accuracy_score(Y_test, Y_pred))\n",
    "print(classification_report(Y_test,Y_pred))\n",
    "cm = confusion_matrix(Y_test, Y_pred, labels=classifier.classes_)\n",
    "disp = ConfusionMatrixDisplay(confusion_matrix=cm, display_labels=classifier.classes_)\n",
    "disp.plot()\n",
    "\n",
    "plt.show()"
   ]
  },
  {
   "cell_type": "code",
   "execution_count": 44,
   "metadata": {},
   "outputs": [
    {
     "name": "stdout",
     "output_type": "stream",
     "text": [
      "0.9128787878787878\n",
      "              precision    recall  f1-score   support\n",
      "\n",
      "         0.0       0.94      0.98      0.96       238\n",
      "         1.0       0.60      0.43      0.50        14\n",
      "         2.0       0.33      0.17      0.22        12\n",
      "\n",
      "    accuracy                           0.91       264\n",
      "   macro avg       0.62      0.52      0.56       264\n",
      "weighted avg       0.89      0.91      0.90       264\n",
      "\n"
     ]
    },
    {
     "data": {
      "image/png": "[encoded data removed]",
      "text/plain": [
       "<Figure size 432x288 with 2 Axes>"
      ]
     },
     "metadata": {
      "needs_background": "light"
     },
     "output_type": "display_data"
    }
   ],
   "source": [
    "#Using RandomForestClassifier method of ensemble class to use Random Forest Classification algorithm\n",
    "\n",
    "from sklearn.ensemble import RandomForestClassifier\n",
    "classifier = RandomForestClassifier(n_estimators = 10, criterion = 'entropy', random_state = 0)\n",
    "classifier.fit(X_train, Y_train)\n",
    "Y_pred = classifier.predict(X_test)\n",
    "print(accuracy_score(Y_test, Y_pred))\n",
    "print(classification_report(Y_test,Y_pred))\n",
    "cm = confusion_matrix(Y_test, Y_pred, labels=classifier.classes_)\n",
    "disp = ConfusionMatrixDisplay(confusion_matrix=cm, display_labels=classifier.classes_)\n",
    "disp.plot()\n",
    "\n",
    "plt.show()"
   ]
  },
  {
   "cell_type": "code",
   "execution_count": null,
   "metadata": {},
   "outputs": [],
   "source": []
  }
 ],
 "metadata": {
  "kernelspec": {
   "display_name": "Python 3",
   "language": "python",
   "name": "python3"
  },
  "language_info": {
   "codemirror_mode": {
    "name": "ipython",
    "version": 3
   },
   "file_extension": ".py",
   "mimetype": "text/x-python",
   "name": "python",
   "nbconvert_exporter": "python",
   "pygments_lexer": "ipython3",
   "version": "3.8.3"
  }
 },
 "nbformat": 4,
 "nbformat_minor": 4
}
